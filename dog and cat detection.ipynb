{
 "cells": [
  {
   "cell_type": "code",
   "execution_count": 2,
   "id": "d865b3c3",
   "metadata": {
    "collapsed": true
   },
   "outputs": [
    {
     "name": "stdout",
     "output_type": "stream",
     "text": [
      "Collecting tensorflow\n",
      "  Downloading tensorflow-2.9.1-cp39-cp39-win_amd64.whl (444.0 MB)\n",
      "Requirement already satisfied: setuptools in c:\\users\\priyansh gupta\\anaconda3\\lib\\site-packages (from tensorflow) (61.2.0)\n",
      "Requirement already satisfied: six>=1.12.0 in c:\\users\\priyansh gupta\\anaconda3\\lib\\site-packages (from tensorflow) (1.16.0)\n",
      "Collecting absl-py>=1.0.0\n",
      "  Using cached absl_py-1.2.0-py3-none-any.whl (123 kB)\n",
      "Collecting gast<=0.4.0,>=0.2.1\n",
      "  Using cached gast-0.4.0-py3-none-any.whl (9.8 kB)\n",
      "Requirement already satisfied: wrapt>=1.11.0 in c:\\users\\priyansh gupta\\anaconda3\\lib\\site-packages (from tensorflow) (1.12.1)\n",
      "Collecting termcolor>=1.1.0\n",
      "  Using cached termcolor-1.1.0.tar.gz (3.9 kB)\n",
      "Requirement already satisfied: h5py>=2.9.0 in c:\\users\\priyansh gupta\\anaconda3\\lib\\site-packages (from tensorflow) (3.6.0)\n",
      "Requirement already satisfied: typing-extensions>=3.6.6 in c:\\users\\priyansh gupta\\anaconda3\\lib\\site-packages (from tensorflow) (4.1.1)\n",
      "Requirement already satisfied: numpy>=1.20 in c:\\users\\priyansh gupta\\anaconda3\\lib\\site-packages (from tensorflow) (1.21.5)\n",
      "Collecting keras-preprocessing>=1.1.1\n",
      "  Using cached Keras_Preprocessing-1.1.2-py2.py3-none-any.whl (42 kB)\n",
      "Collecting astunparse>=1.6.0\n",
      "  Using cached astunparse-1.6.3-py2.py3-none-any.whl (12 kB)\n",
      "Collecting keras<2.10.0,>=2.9.0rc0\n",
      "  Using cached keras-2.9.0-py2.py3-none-any.whl (1.6 MB)\n",
      "Collecting tensorflow-estimator<2.10.0,>=2.9.0rc0\n",
      "  Using cached tensorflow_estimator-2.9.0-py2.py3-none-any.whl (438 kB)\n",
      "Collecting google-pasta>=0.1.1\n",
      "Note: you may need to restart the kernel to use updated packages.\n",
      "  Using cached google_pasta-0.2.0-py3-none-any.whl (57 kB)\n",
      "Requirement already satisfied: packaging in c:\\users\\priyansh gupta\\anaconda3\\lib\\site-packages (from tensorflow) (21.3)\n",
      "Requirement already satisfied: grpcio<2.0,>=1.24.3 in c:\\users\\priyansh gupta\\anaconda3\\lib\\site-packages (from tensorflow) (1.42.0)\n",
      "Collecting flatbuffers<2,>=1.12\n",
      "  Using cached flatbuffers-1.12-py2.py3-none-any.whl (15 kB)\n",
      "Collecting tensorboard<2.10,>=2.9\n",
      "  Using cached tensorboard-2.9.1-py3-none-any.whl (5.8 MB)\n",
      "Collecting libclang>=13.0.0\n",
      "  Using cached libclang-14.0.1-py2.py3-none-win_amd64.whl (14.2 MB)\n",
      "Collecting opt-einsum>=2.3.2\n",
      "  Using cached opt_einsum-3.3.0-py3-none-any.whl (65 kB)\n",
      "Collecting tensorflow-io-gcs-filesystem>=0.23.1\n",
      "  Downloading tensorflow_io_gcs_filesystem-0.26.0-cp39-cp39-win_amd64.whl (1.5 MB)\n",
      "Requirement already satisfied: protobuf<3.20,>=3.9.2 in c:\\users\\priyansh gupta\\anaconda3\\lib\\site-packages (from tensorflow) (3.19.1)\n",
      "Requirement already satisfied: wheel<1.0,>=0.23.0 in c:\\users\\priyansh gupta\\anaconda3\\lib\\site-packages (from astunparse>=1.6.0->tensorflow) (0.37.1)\n",
      "Requirement already satisfied: werkzeug>=1.0.1 in c:\\users\\priyansh gupta\\anaconda3\\lib\\site-packages (from tensorboard<2.10,>=2.9->tensorflow) (2.0.3)\n",
      "Requirement already satisfied: requests<3,>=2.21.0 in c:\\users\\priyansh gupta\\anaconda3\\lib\\site-packages (from tensorboard<2.10,>=2.9->tensorflow) (2.27.1)\n",
      "Requirement already satisfied: markdown>=2.6.8 in c:\\users\\priyansh gupta\\anaconda3\\lib\\site-packages (from tensorboard<2.10,>=2.9->tensorflow) (3.3.4)\n",
      "Collecting tensorboard-plugin-wit>=1.6.0\n",
      "  Using cached tensorboard_plugin_wit-1.8.1-py3-none-any.whl (781 kB)\n",
      "Collecting tensorboard-data-server<0.7.0,>=0.6.0\n",
      "  Using cached tensorboard_data_server-0.6.1-py3-none-any.whl (2.4 kB)\n",
      "Collecting google-auth-oauthlib<0.5,>=0.4.1\n",
      "  Using cached google_auth_oauthlib-0.4.6-py2.py3-none-any.whl (18 kB)\n",
      "Requirement already satisfied: google-auth<3,>=1.6.3 in c:\\users\\priyansh gupta\\anaconda3\\lib\\site-packages (from tensorboard<2.10,>=2.9->tensorflow) (1.33.0)\n",
      "Requirement already satisfied: pyasn1-modules>=0.2.1 in c:\\users\\priyansh gupta\\anaconda3\\lib\\site-packages (from google-auth<3,>=1.6.3->tensorboard<2.10,>=2.9->tensorflow) (0.2.8)\n",
      "Requirement already satisfied: cachetools<5.0,>=2.0.0 in c:\\users\\priyansh gupta\\anaconda3\\lib\\site-packages (from google-auth<3,>=1.6.3->tensorboard<2.10,>=2.9->tensorflow) (4.2.2)\n",
      "Requirement already satisfied: rsa<5,>=3.1.4 in c:\\users\\priyansh gupta\\anaconda3\\lib\\site-packages (from google-auth<3,>=1.6.3->tensorboard<2.10,>=2.9->tensorflow) (4.7.2)\n",
      "Collecting requests-oauthlib>=0.7.0\n",
      "  Using cached requests_oauthlib-1.3.1-py2.py3-none-any.whl (23 kB)\n",
      "Requirement already satisfied: pyasn1<0.5.0,>=0.4.6 in c:\\users\\priyansh gupta\\anaconda3\\lib\\site-packages (from pyasn1-modules>=0.2.1->google-auth<3,>=1.6.3->tensorboard<2.10,>=2.9->tensorflow) (0.4.8)\n",
      "Requirement already satisfied: charset-normalizer~=2.0.0 in c:\\users\\priyansh gupta\\anaconda3\\lib\\site-packages (from requests<3,>=2.21.0->tensorboard<2.10,>=2.9->tensorflow) (2.0.4)\n",
      "Requirement already satisfied: urllib3<1.27,>=1.21.1 in c:\\users\\priyansh gupta\\anaconda3\\lib\\site-packages (from requests<3,>=2.21.0->tensorboard<2.10,>=2.9->tensorflow) (1.26.9)\n",
      "Requirement already satisfied: certifi>=2017.4.17 in c:\\users\\priyansh gupta\\anaconda3\\lib\\site-packages (from requests<3,>=2.21.0->tensorboard<2.10,>=2.9->tensorflow) (2021.10.8)\n",
      "Requirement already satisfied: idna<4,>=2.5 in c:\\users\\priyansh gupta\\anaconda3\\lib\\site-packages (from requests<3,>=2.21.0->tensorboard<2.10,>=2.9->tensorflow) (3.3)\n",
      "Collecting oauthlib>=3.0.0\n",
      "  Using cached oauthlib-3.2.0-py3-none-any.whl (151 kB)\n",
      "Requirement already satisfied: pyparsing!=3.0.5,>=2.0.2 in c:\\users\\priyansh gupta\\anaconda3\\lib\\site-packages (from packaging->tensorflow) (3.0.4)\n",
      "Building wheels for collected packages: termcolor\n",
      "  Building wheel for termcolor (setup.py): started\n",
      "  Building wheel for termcolor (setup.py): finished with status 'done'\n",
      "  Created wheel for termcolor: filename=termcolor-1.1.0-py3-none-any.whl size=4848 sha256=65f08bbf3868f572bb93e66f6feb43951907cb93e7adee51f702284ed7eacf56\n",
      "  Stored in directory: c:\\users\\priyansh gupta\\appdata\\local\\pip\\cache\\wheels\\b6\\0d\\90\\0d1bbd99855f99cb2f6c2e5ff96f8023fad8ec367695f7d72d\n",
      "Successfully built termcolor\n",
      "Installing collected packages: oauthlib, requests-oauthlib, tensorboard-plugin-wit, tensorboard-data-server, google-auth-oauthlib, absl-py, termcolor, tensorflow-io-gcs-filesystem, tensorflow-estimator, tensorboard, opt-einsum, libclang, keras-preprocessing, keras, google-pasta, gast, flatbuffers, astunparse, tensorflow\n",
      "Successfully installed absl-py-1.2.0 astunparse-1.6.3 flatbuffers-1.12 gast-0.4.0 google-auth-oauthlib-0.4.6 google-pasta-0.2.0 keras-2.9.0 keras-preprocessing-1.1.2 libclang-14.0.1 oauthlib-3.2.0 opt-einsum-3.3.0 requests-oauthlib-1.3.1 tensorboard-2.9.1 tensorboard-data-server-0.6.1 tensorboard-plugin-wit-1.8.1 tensorflow-2.9.1 tensorflow-estimator-2.9.0 tensorflow-io-gcs-filesystem-0.26.0 termcolor-1.1.0\n"
     ]
    }
   ],
   "source": [
    "pip install tensorflow"
   ]
  },
  {
   "cell_type": "code",
   "execution_count": 132,
   "id": "504cfdf0",
   "metadata": {},
   "outputs": [
    {
     "data": {
      "text/plain": [
       "'2.9.1'"
      ]
     },
     "execution_count": 132,
     "metadata": {},
     "output_type": "execute_result"
    }
   ],
   "source": [
    "import tensorflow as tf\n",
    "tf.__version__"
   ]
  },
  {
   "cell_type": "code",
   "execution_count": 5,
   "id": "7cb8971d",
   "metadata": {
    "collapsed": true
   },
   "outputs": [
    {
     "name": "stdout",
     "output_type": "stream",
     "text": [
      "Requirement already satisfied: keras in c:\\users\\priyansh gupta\\anaconda3\\lib\\site-packages (2.9.0)\n",
      "Note: you may need to restart the kernel to use updated packages.\n"
     ]
    }
   ],
   "source": [
    "pip install keras"
   ]
  },
  {
   "cell_type": "code",
   "execution_count": 133,
   "id": "df68e6f5",
   "metadata": {},
   "outputs": [],
   "source": [
    "import keras"
   ]
  },
  {
   "cell_type": "code",
   "execution_count": 134,
   "id": "1cc45e06",
   "metadata": {},
   "outputs": [
    {
     "data": {
      "text/plain": [
       "'2.9.0'"
      ]
     },
     "execution_count": 134,
     "metadata": {},
     "output_type": "execute_result"
    }
   ],
   "source": [
    "ke.__version__"
   ]
  },
  {
   "cell_type": "code",
   "execution_count": 57,
   "id": "57a0b76d",
   "metadata": {},
   "outputs": [],
   "source": []
  },
  {
   "cell_type": "code",
   "execution_count": 135,
   "id": "928d0887",
   "metadata": {},
   "outputs": [
    {
     "name": "stdout",
     "output_type": "stream",
     "text": [
      "Found 8005 images belonging to 2 classes.\n"
     ]
    }
   ],
   "source": [
    "from keras.preprocessing.image import ImageDataGenerator\n",
    "\n",
    "\n",
    "traindatagen = ImageDataGenerator(rescale = 1./255, shear_range =0.2, zoom_range=0.2, horizontal_flip = True)\n",
    "\n",
    "training_set = traindatagen.flow_from_directory(\"Documents/cat and dog implementation/training_set/training_set\", target_size = (64,64), batch_size = 32, class_mode = 'binary')"
   ]
  },
  {
   "cell_type": "code",
   "execution_count": 136,
   "id": "9245fa8e",
   "metadata": {},
   "outputs": [
    {
     "name": "stdout",
     "output_type": "stream",
     "text": [
      "Found 2023 images belonging to 2 classes.\n"
     ]
    }
   ],
   "source": [
    "testdatagen = ImageDataGenerator(rescale = 1./255, shear_range =0.2, zoom_range=0.2, horizontal_flip = True)\n",
    "testing_set = testdatagen.flow_from_directory('Documents/cat and dog implementation/test_set/test_set', target_size =(64,64), batch_size = 32, class_mode = 'binary')"
   ]
  },
  {
   "cell_type": "markdown",
   "id": "b8c1f9dc",
   "metadata": {},
   "source": [
    "# INITIALISING CNN\n"
   ]
  },
  {
   "cell_type": "code",
   "execution_count": 137,
   "id": "97e705bd",
   "metadata": {},
   "outputs": [],
   "source": [
    "cnn = tf.keras.models.Sequential()"
   ]
  },
  {
   "cell_type": "markdown",
   "id": "57595509",
   "metadata": {},
   "source": [
    "# Convolution"
   ]
  },
  {
   "cell_type": "code",
   "execution_count": 138,
   "id": "76c0976c",
   "metadata": {},
   "outputs": [],
   "source": [
    "cnn.add(tf.keras.layers.Conv2D(filters = 32, kernel_size = 3, activation = 'relu', input_shape = [64,64,3]))"
   ]
  },
  {
   "cell_type": "markdown",
   "id": "f2b2ae1a",
   "metadata": {},
   "source": [
    "# Pooling"
   ]
  },
  {
   "cell_type": "code",
   "execution_count": 139,
   "id": "e00c44c2",
   "metadata": {},
   "outputs": [],
   "source": [
    "cnn.add(tf.keras.layers.MaxPool2D(pool_size = 2, strides = 2))"
   ]
  },
  {
   "cell_type": "markdown",
   "id": "3e900788",
   "metadata": {},
   "source": [
    "# Adding another convolution layer"
   ]
  },
  {
   "cell_type": "code",
   "execution_count": 140,
   "id": "abed0c72",
   "metadata": {},
   "outputs": [],
   "source": [
    "cnn.add(tf.keras.layers.Conv2D(filters = 32, kernel_size = 3, activation = 'relu', input_shape = [64,64,3]))\n",
    "cnn.add(tf.keras.layers.MaxPool2D(pool_size = 2, strides = 2))\n"
   ]
  },
  {
   "cell_type": "markdown",
   "id": "4d1472e0",
   "metadata": {},
   "source": [
    "# Flattening"
   ]
  },
  {
   "cell_type": "code",
   "execution_count": 141,
   "id": "9ef397d0",
   "metadata": {},
   "outputs": [],
   "source": [
    "cnn.add(tf.keras.layers.Flatten())"
   ]
  },
  {
   "cell_type": "markdown",
   "id": "38fb22bc",
   "metadata": {},
   "source": [
    "# Full Connection"
   ]
  },
  {
   "cell_type": "code",
   "execution_count": 142,
   "id": "63f2c0c1",
   "metadata": {},
   "outputs": [],
   "source": [
    "cnn.add(tf.keras.layers.Dense(units = 128, activation ='relu'))"
   ]
  },
  {
   "cell_type": "markdown",
   "id": "c3521be6",
   "metadata": {},
   "source": [
    "# Output\n"
   ]
  },
  {
   "cell_type": "code",
   "execution_count": 143,
   "id": "3a3057eb",
   "metadata": {},
   "outputs": [],
   "source": [
    "cnn.add(tf.keras.layers.Dense(units = 1, activation ='sigmoid'))\n"
   ]
  },
  {
   "cell_type": "markdown",
   "id": "273043e1",
   "metadata": {},
   "source": [
    "# Train CNN"
   ]
  },
  {
   "cell_type": "code",
   "execution_count": 144,
   "id": "ca50c995",
   "metadata": {},
   "outputs": [],
   "source": [
    "cnn.compile(optimizer = 'adam', loss = 'binary_crossentropy', metrics =(['accuracy']) )"
   ]
  },
  {
   "cell_type": "markdown",
   "id": "3780a7d9",
   "metadata": {},
   "source": [
    "training the cnn on training set and evaluate it on test set"
   ]
  },
  {
   "cell_type": "code",
   "execution_count": 145,
   "id": "01eb4614",
   "metadata": {},
   "outputs": [
    {
     "name": "stdout",
     "output_type": "stream",
     "text": [
      "Epoch 1/25\n",
      "251/251 [==============================] - 96s 376ms/step - loss: 0.6640 - accuracy: 0.5925 - val_loss: 0.6079 - val_accuracy: 0.6787\n",
      "Epoch 2/25\n",
      "251/251 [==============================] - 87s 347ms/step - loss: 0.5797 - accuracy: 0.6949 - val_loss: 0.5612 - val_accuracy: 0.7158\n",
      "Epoch 3/25\n",
      "251/251 [==============================] - 82s 326ms/step - loss: 0.5338 - accuracy: 0.7345 - val_loss: 0.5259 - val_accuracy: 0.7375\n",
      "Epoch 4/25\n",
      "251/251 [==============================] - 87s 345ms/step - loss: 0.5019 - accuracy: 0.7547 - val_loss: 0.5084 - val_accuracy: 0.7444\n",
      "Epoch 5/25\n",
      "251/251 [==============================] - 82s 328ms/step - loss: 0.4894 - accuracy: 0.7597 - val_loss: 0.5032 - val_accuracy: 0.7558\n",
      "Epoch 6/25\n",
      "251/251 [==============================] - 82s 327ms/step - loss: 0.4676 - accuracy: 0.7719 - val_loss: 0.4884 - val_accuracy: 0.7662\n",
      "Epoch 7/25\n",
      "251/251 [==============================] - 82s 326ms/step - loss: 0.4550 - accuracy: 0.7836 - val_loss: 0.5026 - val_accuracy: 0.7558\n",
      "Epoch 8/25\n",
      "251/251 [==============================] - 82s 328ms/step - loss: 0.4357 - accuracy: 0.7989 - val_loss: 0.4711 - val_accuracy: 0.7820\n",
      "Epoch 9/25\n",
      "251/251 [==============================] - 82s 326ms/step - loss: 0.4248 - accuracy: 0.8029 - val_loss: 0.4577 - val_accuracy: 0.7894\n",
      "Epoch 10/25\n",
      "251/251 [==============================] - 82s 327ms/step - loss: 0.4101 - accuracy: 0.8097 - val_loss: 0.4725 - val_accuracy: 0.7860\n",
      "Epoch 11/25\n",
      "251/251 [==============================] - 84s 334ms/step - loss: 0.3978 - accuracy: 0.8177 - val_loss: 0.4535 - val_accuracy: 0.7934\n",
      "Epoch 12/25\n",
      "251/251 [==============================] - 83s 329ms/step - loss: 0.3859 - accuracy: 0.8244 - val_loss: 0.4704 - val_accuracy: 0.7682\n",
      "Epoch 13/25\n",
      "251/251 [==============================] - 82s 328ms/step - loss: 0.3717 - accuracy: 0.8374 - val_loss: 0.4435 - val_accuracy: 0.8072\n",
      "Epoch 14/25\n",
      "251/251 [==============================] - 81s 324ms/step - loss: 0.3631 - accuracy: 0.8357 - val_loss: 0.4407 - val_accuracy: 0.8008\n",
      "Epoch 15/25\n",
      "251/251 [==============================] - 86s 344ms/step - loss: 0.3558 - accuracy: 0.8396 - val_loss: 0.4761 - val_accuracy: 0.7860\n",
      "Epoch 16/25\n",
      "251/251 [==============================] - 82s 328ms/step - loss: 0.3393 - accuracy: 0.8493 - val_loss: 0.4525 - val_accuracy: 0.8117\n",
      "Epoch 17/25\n",
      "251/251 [==============================] - 81s 324ms/step - loss: 0.3245 - accuracy: 0.8555 - val_loss: 0.4368 - val_accuracy: 0.8013\n",
      "Epoch 18/25\n",
      "251/251 [==============================] - 85s 340ms/step - loss: 0.3168 - accuracy: 0.8640 - val_loss: 0.4810 - val_accuracy: 0.7924\n",
      "Epoch 19/25\n",
      "251/251 [==============================] - 85s 339ms/step - loss: 0.3029 - accuracy: 0.8730 - val_loss: 0.4618 - val_accuracy: 0.7968\n",
      "Epoch 20/25\n",
      "251/251 [==============================] - 79s 316ms/step - loss: 0.2860 - accuracy: 0.8792 - val_loss: 0.4919 - val_accuracy: 0.8008\n",
      "Epoch 21/25\n",
      "251/251 [==============================] - 38s 152ms/step - loss: 0.2820 - accuracy: 0.8772 - val_loss: 0.4834 - val_accuracy: 0.8047\n",
      "Epoch 22/25\n",
      "251/251 [==============================] - 39s 155ms/step - loss: 0.2754 - accuracy: 0.8861 - val_loss: 0.5039 - val_accuracy: 0.7949\n",
      "Epoch 23/25\n",
      "251/251 [==============================] - 39s 154ms/step - loss: 0.2527 - accuracy: 0.8933 - val_loss: 0.4785 - val_accuracy: 0.7949\n",
      "Epoch 24/25\n",
      "251/251 [==============================] - 38s 151ms/step - loss: 0.2513 - accuracy: 0.8951 - val_loss: 0.5027 - val_accuracy: 0.8062\n",
      "Epoch 25/25\n",
      "251/251 [==============================] - 38s 150ms/step - loss: 0.2347 - accuracy: 0.9013 - val_loss: 0.4758 - val_accuracy: 0.7874\n"
     ]
    },
    {
     "data": {
      "text/plain": [
       "<keras.callbacks.History at 0x23f9057d8b0>"
      ]
     },
     "execution_count": 145,
     "metadata": {},
     "output_type": "execute_result"
    }
   ],
   "source": [
    "cnn.fit(x = training_set , validation_data = testing_set, epochs = 25)"
   ]
  },
  {
   "cell_type": "code",
   "execution_count": 156,
   "id": "e465f803",
   "metadata": {},
   "outputs": [
    {
     "name": "stdout",
     "output_type": "stream",
     "text": [
      "1/1 [==============================] - 0s 13ms/step\n",
      "cat\n"
     ]
    }
   ],
   "source": [
    "import numpy as np\n",
    "from keras.utils import load_img\n",
    "test_image = load_img('Documents/cat and dog implementation/single prediction/catanddog1.jpg', target_size = (64,64))\n",
    "test_image = img_to_array(test_image)\n",
    "test_image = np.expand_dims(test_image,axis = 0)\n",
    "result = cnn.predict(test_image)\n",
    "if result[0][0] == 1:\n",
    "    prediction = 'dog'\n",
    "else:\n",
    "    prediction = 'cat'\n",
    "    \n",
    "    \n",
    "print(prediction)\n"
   ]
  }
 ],
 "metadata": {
  "kernelspec": {
   "display_name": "Python 3 (ipykernel)",
   "language": "python",
   "name": "python3"
  },
  "language_info": {
   "codemirror_mode": {
    "name": "ipython",
    "version": 3
   },
   "file_extension": ".py",
   "mimetype": "text/x-python",
   "name": "python",
   "nbconvert_exporter": "python",
   "pygments_lexer": "ipython3",
   "version": "3.9.12"
  }
 },
 "nbformat": 4,
 "nbformat_minor": 5
}
